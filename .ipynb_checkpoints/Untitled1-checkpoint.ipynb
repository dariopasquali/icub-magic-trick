{
 "cells": [
  {
   "cell_type": "code",
   "execution_count": 49,
   "metadata": {},
   "outputs": [],
   "source": [
    "import pandas as pd\n",
    "import numpy as np\n",
    "from scipy import stats\n",
    "\n",
    "raw1 = pd.DataFrame(data=[1,2,3,1,2,3,4,5,6,3,9,2,4,1,2,3,5,8,5,4,3], columns=[\"val\"])\n",
    "base_mean1 = 2\n",
    "raw2 = pd.DataFrame(data=[3,4,23,4,15,5,6,7,1,23,6,7,1,23,4,5,23,6,6,1,2], columns=[\"val\"])\n",
    "base_mean2 = 2"
   ]
  },
  {
   "cell_type": "code",
   "execution_count": null,
   "metadata": {},
   "outputs": [],
   "source": [
    "sub1 = raw1[['val']] - base_mean1\n",
    "sub2 = raw2[['val']] - base_mean2"
   ]
  },
  {
   "cell_type": "code",
   "execution_count": null,
   "metadata": {},
   "outputs": [],
   "source": [
    "raw_mean1 = raw1['val'].mean()\n",
    "raw_mean2 = raw2['val'].mean()\n",
    "\n",
    "sub_mean1 = raw1['val'].mean()\n",
    "sub_mean2 = raw2['val'].mean()\n",
    "\n",
    "raw_df = pd.DataFrame(data=[raw_mean1, raw_mean2], columns=['val'])\n",
    "sub_df = pd.DataFrame(data=[sub_mean1, sub_mean2], columns=['val'])"
   ]
  },
  {
   "cell_type": "code",
   "execution_count": 45,
   "metadata": {},
   "outputs": [
    {
     "name": "stdout",
     "output_type": "stream",
     "text": [
      "RAW: mean 3.619047619047619 sem 0.47044148705632266\n",
      "SUB: mean 1.619047619047619 sem 0.47044148705632266\n"
     ]
    }
   ],
   "source": [
    "raw_mean = raw_df['val'].mean()\n",
    "raw_sem = raw_df['val'].sem()\n",
    "\n",
    "sub_mean = sub_df['val'].mean()\n",
    "sub_sem = sub_df['val'].sem()\n",
    "\n",
    "print(\"RAW: mean {} sem {}\".format(raw_mean, raw_sem))\n",
    "print(\"SUB: mean {} sem {}\".format(sub_mean, sub_sem))"
   ]
  },
  {
   "cell_type": "code",
   "execution_count": null,
   "metadata": {},
   "outputs": [],
   "source": []
  }
 ],
 "metadata": {
  "kernelspec": {
   "display_name": "Python 3",
   "language": "python",
   "name": "python3"
  },
  "language_info": {
   "codemirror_mode": {
    "name": "ipython",
    "version": 3
   },
   "file_extension": ".py",
   "mimetype": "text/x-python",
   "name": "python",
   "nbconvert_exporter": "python",
   "pygments_lexer": "ipython3",
   "version": "3.7.3"
  }
 },
 "nbformat": 4,
 "nbformat_minor": 2
}
