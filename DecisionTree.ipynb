{
 "cells": [
  {
   "cell_type": "code",
   "execution_count": 25,
   "metadata": {},
   "outputs": [],
   "source": [
    "import pandas as pd\n",
    "import numpy as np\n",
    "import matplotlib.pyplot as plt\n",
    "import matplotlib.patches as patches\n",
    "\n",
    "from sklearn.tree import DecisionTreeClassifier # Import Decision Tree Classifier\n",
    "from sklearn.model_selection import train_test_split # Import train_test_split function\n",
    "from sklearn import metrics #Import scikit-learn metrics module for accuracy calculation\n",
    "\n",
    "pd.options.mode.chained_assignment = None  # default='warn'\n",
    "features_in = \"data/features.csv\""
   ]
  },
  {
   "cell_type": "code",
   "execution_count": 26,
   "metadata": {},
   "outputs": [
    {
     "data": {
      "text/plain": [
       "0"
      ]
     },
     "execution_count": 26,
     "metadata": {},
     "output_type": "execute_result"
    }
   ],
   "source": [
    "column_names = [\n",
    "        'subject','duration','card_class','show_order',\n",
    "        'fix_freq','sacc_freq','sr_fix_freq','sr_sacc_freq',\n",
    "        'pupil_diam_right_mean','pupil_diam_right_std','pupil_diam_right_min','pupil_diam_right_max',\n",
    "        'pupil_diam_left_mean','pupil_diam_left_std','pupil_diam_left_min','pupil_diam_left_max',\n",
    "        'sr_pupil_diam_right_mean','sr_pupil_diam_right_std','sr_pupil_diam_right_min','sr_pupil_diam_right_max',\n",
    "        'sr_pupil_diam_left_mean','sr_pupil_diam_left_std','sr_pupil_diam_left_min','sr_pupil_diam_left_max',\n",
    "        'label'\n",
    "    ]\n",
    "    \n",
    "features = pd.read_csv(features_in, sep='\\t')\n",
    "for col in column_names:\n",
    "    features[col] = features[col].fillna(0)\n",
    "    \n",
    "\n",
    "features.isnull().sum().sum()"
   ]
  },
  {
   "cell_type": "code",
   "execution_count": 27,
   "metadata": {},
   "outputs": [],
   "source": [
    "feature_cols = [\n",
    "        'fix_freq','sacc_freq','sr_fix_freq','sr_sacc_freq',\n",
    "        'pupil_diam_right_mean','pupil_diam_right_std','pupil_diam_right_min','pupil_diam_right_max',\n",
    "        'pupil_diam_left_mean','pupil_diam_left_std','pupil_diam_left_min','pupil_diam_left_max',\n",
    "        'sr_pupil_diam_right_mean','sr_pupil_diam_right_std','sr_pupil_diam_right_min','sr_pupil_diam_right_max',\n",
    "        'sr_pupil_diam_left_mean','sr_pupil_diam_left_std','sr_pupil_diam_left_min','sr_pupil_diam_left_max'\n",
    "    ]\n",
    "X = features[feature_cols]\n",
    "Y = features['label']\n",
    "X_train, X_test, y_train, y_test = \\\n",
    "        train_test_split(X, Y, train_size=0.75,test_size=0.25, random_state=1, shuffle=True) # 70% training and 30% test"
   ]
  },
  {
   "cell_type": "code",
   "execution_count": 28,
   "metadata": {},
   "outputs": [
    {
     "name": "stdout",
     "output_type": "stream",
     "text": [
      "Accuracy: 0.6538461538461539\n"
     ]
    }
   ],
   "source": [
    "# Create Decision Tree classifer object\n",
    "tree = DecisionTreeClassifier()\n",
    "\n",
    "# Train Decision Tree Classifer\n",
    "tree = tree.fit(X_train,y_train)\n",
    "\n",
    "#Predict the response for test dataset\n",
    "y_pred = tree.predict(X_test)\n",
    "\n",
    "# Model Accuracy, how often is the classifier correct?\n",
    "print(\"Accuracy:\",metrics.accuracy_score(y_test, y_pred))"
   ]
  },
  {
   "cell_type": "code",
   "execution_count": null,
   "metadata": {},
   "outputs": [],
   "source": []
  },
  {
   "cell_type": "code",
   "execution_count": null,
   "metadata": {},
   "outputs": [],
   "source": []
  }
 ],
 "metadata": {
  "kernelspec": {
   "display_name": "Python 3",
   "language": "python",
   "name": "python3"
  },
  "language_info": {
   "codemirror_mode": {
    "name": "ipython",
    "version": 3
   },
   "file_extension": ".py",
   "mimetype": "text/x-python",
   "name": "python",
   "nbconvert_exporter": "python",
   "pygments_lexer": "ipython3",
   "version": "3.7.3"
  }
 },
 "nbformat": 4,
 "nbformat_minor": 2
}
