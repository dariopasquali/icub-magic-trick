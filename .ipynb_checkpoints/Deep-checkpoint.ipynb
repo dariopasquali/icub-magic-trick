{
 "cells": [
  {
   "cell_type": "code",
   "execution_count": 34,
   "metadata": {},
   "outputs": [],
   "source": [
    "import pandas as pd\n",
    "import numpy as np\n",
    "import matplotlib.pyplot as plt\n",
    "\n",
    "from imblearn.over_sampling import SMOTE, ADASYN\n",
    "from sklearn.metrics import classification_report\n",
    "\n",
    "from sklearn.model_selection import train_test_split\n",
    "from sklearn.preprocessing import LabelEncoder\n",
    "from sklearn.preprocessing import StandardScaler\n",
    "from sklearn.pipeline import Pipeline\n",
    "\n",
    "# Importing libraries for building the neural network\n",
    "from keras.models import Sequential\n",
    "from keras.layers import Dense\n",
    "from keras.wrappers.scikit_learn import KerasClassifier\n",
    "from sklearn.model_selection import StratifiedKFold\n",
    "from sklearn.model_selection import cross_val_score\n",
    "\n",
    "pd.options.mode.chained_assignment = None  # default='warn'\n",
    "%matplotlib inline"
   ]
  },
  {
   "cell_type": "code",
   "execution_count": 35,
   "metadata": {},
   "outputs": [],
   "source": [
    "feature_files = [ #sub is better, from the literature\n",
    "    \"features/features_sub.csv\",\n",
    "    #\"features/features_div.csv\"\n",
    "]\n",
    "\n",
    "feature_cols = [\n",
    "        'duration',\n",
    "        #'show_order',\n",
    "        'card_class',\n",
    "        'fix_freq','sacc_freq',\n",
    "        'pupil_diam_right_mean',\n",
    "        'pupil_diam_right_std',\n",
    "        'pupil_diam_right_min',\n",
    "        'pupil_diam_right_max',\n",
    "        'pupil_diam_left_mean',\n",
    "        'pupil_diam_left_std',\n",
    "        'pupil_diam_left_min',\n",
    "        'pupil_diam_left_max',\n",
    "    \n",
    "        #'sre_fix_freq','sre_sacc_freq',\n",
    "        #'sre_pupil_diam_right_mean',\n",
    "        #'sre_pupil_diam_right_std',\n",
    "        #'sre_pupil_diam_right_min',\n",
    "        #'sre_pupil_diam_right_max',\n",
    "        #'sre_pupil_diam_left_mean',\n",
    "        #'sre_pupil_diam_left_std',\n",
    "        #'sre_pupil_diam_left_min',\n",
    "        #'sre_pupil_diam_left_max',\n",
    "    \n",
    "        'srl_fix_freq','srl_sacc_freq',\n",
    "        'srl_pupil_diam_right_mean',\n",
    "        'srl_pupil_diam_right_std',\n",
    "        'srl_pupil_diam_right_min',\n",
    "        'srl_pupil_diam_right_max',\n",
    "        'srl_pupil_diam_left_mean',\n",
    "        'srl_pupil_diam_left_std',\n",
    "        'srl_pupil_diam_left_min',\n",
    "        'srl_pupil_diam_left_max',\n",
    "]"
   ]
  },
  {
   "cell_type": "code",
   "execution_count": 36,
   "metadata": {},
   "outputs": [],
   "source": [
    "data = pd.read_csv(feature_files[0], sep='\\t')\n",
    "seed = 5\n",
    "np.random.seed(seed)\n",
    "\n",
    "encoder = LabelEncoder()\n",
    "encoder.fit(data['card_class'])\n",
    "data['card_class'] = encoder.transform(data['card_class'])\n",
    "\n",
    "X = data[feature_cols].values\n",
    "y = data['label']"
   ]
  },
  {
   "cell_type": "code",
   "execution_count": 37,
   "metadata": {},
   "outputs": [],
   "source": [
    "model = Sequential()\n",
    "model.add(Dense(13,input_dim = 22, activation='relu'))\n",
    "model.add(Dense(13, activation='relu'))\n",
    "model.add(Dense(10, activation='relu'))\n",
    "model.add(Dense(1, activation='sigmoid'))"
   ]
  },
  {
   "cell_type": "code",
   "execution_count": 42,
   "metadata": {},
   "outputs": [],
   "source": [
    "X_train, X_test, y_train, y_test = train_test_split(X, y, test_size=0.33, random_state=42)\n",
    "X_train, X_val, y_train, y_val = train_test_split(X_train, y_train, test_size=0.33)\n",
    "# Oversample just the training set\n",
    "X_train, y_train = SMOTE().fit_resample(X_train, y_train)"
   ]
  },
  {
   "cell_type": "code",
   "execution_count": 43,
   "metadata": {},
   "outputs": [
    {
     "name": "stdout",
     "output_type": "stream",
     "text": [
      "Train on 72 samples, validate on 34 samples\n",
      "Epoch 1/10\n",
      "72/72 [==============================] - 2s 21ms/step - loss: 7.9712 - acc: 0.5000 - val_loss: 13.5979 - val_acc: 0.1471\n",
      "Epoch 2/10\n",
      "72/72 [==============================] - 0s 373us/step - loss: 7.9712 - acc: 0.5000 - val_loss: 13.5979 - val_acc: 0.1471\n",
      "Epoch 3/10\n",
      "72/72 [==============================] - 0s 416us/step - loss: 7.9712 - acc: 0.5000 - val_loss: 13.5979 - val_acc: 0.1471\n",
      "Epoch 4/10\n",
      "72/72 [==============================] - 0s 304us/step - loss: 7.9712 - acc: 0.5000 - val_loss: 13.5979 - val_acc: 0.1471\n",
      "Epoch 5/10\n",
      "72/72 [==============================] - 0s 279us/step - loss: 7.9712 - acc: 0.5000 - val_loss: 13.5979 - val_acc: 0.1471\n",
      "Epoch 6/10\n",
      "72/72 [==============================] - 0s 362us/step - loss: 7.9712 - acc: 0.5000 - val_loss: 13.5979 - val_acc: 0.1471\n",
      "Epoch 7/10\n",
      "72/72 [==============================] - 0s 424us/step - loss: 7.9712 - acc: 0.5000 - val_loss: 13.5979 - val_acc: 0.1471\n",
      "Epoch 8/10\n",
      "72/72 [==============================] - 0s 361us/step - loss: 7.9712 - acc: 0.5000 - val_loss: 13.5979 - val_acc: 0.1471\n",
      "Epoch 9/10\n",
      "72/72 [==============================] - 0s 568us/step - loss: 7.9712 - acc: 0.5000 - val_loss: 13.5979 - val_acc: 0.1471\n",
      "Epoch 10/10\n",
      "72/72 [==============================] - 0s 399us/step - loss: 7.9712 - acc: 0.5000 - val_loss: 13.5979 - val_acc: 0.1471\n",
      "              precision    recall  f1-score   support\n",
      "\n",
      "           0       0.00      0.00      0.00        29\n",
      "           1       0.15      1.00      0.26         5\n",
      "\n",
      "   micro avg       0.15      0.15      0.15        34\n",
      "   macro avg       0.07      0.50      0.13        34\n",
      "weighted avg       0.02      0.15      0.04        34\n",
      "\n"
     ]
    },
    {
     "name": "stderr",
     "output_type": "stream",
     "text": [
      "/home/dario/anaconda3/lib/python3.7/site-packages/sklearn/metrics/classification.py:1143: UndefinedMetricWarning: Precision and F-score are ill-defined and being set to 0.0 in labels with no predicted samples.\n",
      "  'precision', 'predicted', average, warn_for)\n"
     ]
    }
   ],
   "source": [
    "model.compile(loss=\"binary_crossentropy\", optimizer = \"adam\", metrics = ['accuracy'])\n",
    "model.fit(X_train,y_train, epochs = 10, batch_size = 30,\n",
    "          validation_data = (X_test, y_test))\n",
    "preds = model.predict_classes(X_test)\n",
    "\n",
    "print (classification_report(y_test, preds))"
   ]
  },
  {
   "cell_type": "code",
   "execution_count": null,
   "metadata": {},
   "outputs": [],
   "source": []
  }
 ],
 "metadata": {
  "kernelspec": {
   "display_name": "Python 3",
   "language": "python",
   "name": "python3"
  },
  "language_info": {
   "codemirror_mode": {
    "name": "ipython",
    "version": 3
   },
   "file_extension": ".py",
   "mimetype": "text/x-python",
   "name": "python",
   "nbconvert_exporter": "python",
   "pygments_lexer": "ipython3",
   "version": "3.7.3"
  }
 },
 "nbformat": 4,
 "nbformat_minor": 2
}
