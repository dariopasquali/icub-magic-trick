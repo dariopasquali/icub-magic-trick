{
 "cells": [
  {
   "cell_type": "code",
   "execution_count": 1,
   "metadata": {},
   "outputs": [
    {
     "name": "stdout",
     "output_type": "stream",
     "text": [
      "================== MODE sub =====================\n"
     ]
    }
   ],
   "source": [
    "import pandas as pd\n",
    "import numpy as np\n",
    "from scipy import stats\n",
    "\n",
    "from featureExtractor import *"
   ]
  },
  {
   "cell_type": "code",
   "execution_count": 2,
   "metadata": {},
   "outputs": [
    {
     "name": "stdout",
     "output_type": "stream",
     "text": [
      "================== MODE sub =====================\n"
     ]
    }
   ],
   "source": [
    "mode = \"sub\"\n",
    "print(\"================== MODE {} =====================\".format(mode))\n",
    "#lie_features, lie_base_right, lie_base_left = \\\n",
    "#    extractLieFeatures(subjects=[], mode=mode, ref_to_base=\"time\", plot=False, print_pupil=False)\n",
    "#lie_features.to_csv(\"lie_features.csv\", index=False)\n",
    "\n",
    "lie_features = pd.read_csv(\"lie_features.csv\", sep=',')\n",
    "lie_features = lie_features.fillna(0)"
   ]
  },
  {
   "cell_type": "code",
   "execution_count": 6,
   "metadata": {},
   "outputs": [
    {
     "name": "stdout",
     "output_type": "stream",
     "text": [
      "[ 3  4  6  7  8 10 11 12 13 14 15 16 18 20 21 24 25]\n",
      "Train Set: [13 20  6 14 25  8 12 15 18  7 11]\n",
      "Test Set: [16 21]\n",
      "==========================================\n",
      "TRAIN --->tree\n",
      "TRAIN --->forest\n",
      "Train Set: [16 21  6 14 25  8 12 15 18  7 11]\n",
      "Test Set: [13 20]\n",
      "==========================================\n",
      "TRAIN --->tree\n",
      "TRAIN --->forest\n",
      "Train Set: [16 21 13 20 25  8 12 15 18  7 11]\n",
      "Test Set: [ 6 14]\n",
      "==========================================\n",
      "TRAIN --->tree\n",
      "TRAIN --->forest\n"
     ]
    },
    {
     "name": "stderr",
     "output_type": "stream",
     "text": [
      "/home/dario/anaconda3/lib/python3.7/site-packages/sklearn/metrics/classification.py:1143: UndefinedMetricWarning: Precision is ill-defined and being set to 0.0 due to no predicted samples.\n",
      "  'precision', 'predicted', average, warn_for)\n",
      "/home/dario/anaconda3/lib/python3.7/site-packages/sklearn/metrics/classification.py:1143: UndefinedMetricWarning: F-score is ill-defined and being set to 0.0 due to no predicted samples.\n",
      "  'precision', 'predicted', average, warn_for)\n"
     ]
    },
    {
     "name": "stdout",
     "output_type": "stream",
     "text": [
      "Train Set: [16 21 13 20  6 14  8 12 15 18  7 11]\n",
      "Test Set: [25]\n",
      "==========================================\n",
      "TRAIN --->tree\n",
      "TRAIN --->forest\n"
     ]
    },
    {
     "name": "stderr",
     "output_type": "stream",
     "text": [
      "/home/dario/anaconda3/lib/python3.7/site-packages/sklearn/metrics/classification.py:1143: UndefinedMetricWarning: Precision is ill-defined and being set to 0.0 due to no predicted samples.\n",
      "  'precision', 'predicted', average, warn_for)\n",
      "/home/dario/anaconda3/lib/python3.7/site-packages/sklearn/metrics/classification.py:1143: UndefinedMetricWarning: F-score is ill-defined and being set to 0.0 due to no predicted samples.\n",
      "  'precision', 'predicted', average, warn_for)\n"
     ]
    },
    {
     "name": "stdout",
     "output_type": "stream",
     "text": [
      "Train Set: [16 21 13 20  6 14 25 12 15 18  7 11]\n",
      "Test Set: [8]\n",
      "==========================================\n",
      "TRAIN --->tree\n",
      "TRAIN --->forest\n"
     ]
    },
    {
     "name": "stderr",
     "output_type": "stream",
     "text": [
      "/home/dario/anaconda3/lib/python3.7/site-packages/sklearn/metrics/classification.py:1143: UndefinedMetricWarning: Precision is ill-defined and being set to 0.0 due to no predicted samples.\n",
      "  'precision', 'predicted', average, warn_for)\n",
      "/home/dario/anaconda3/lib/python3.7/site-packages/sklearn/metrics/classification.py:1143: UndefinedMetricWarning: F-score is ill-defined and being set to 0.0 due to no predicted samples.\n",
      "  'precision', 'predicted', average, warn_for)\n"
     ]
    },
    {
     "name": "stdout",
     "output_type": "stream",
     "text": [
      "Train Set: [16 21 13 20  6 14 25  8 15 18  7 11]\n",
      "Test Set: [12]\n",
      "==========================================\n",
      "TRAIN --->tree\n",
      "TRAIN --->forest\n"
     ]
    },
    {
     "name": "stderr",
     "output_type": "stream",
     "text": [
      "/home/dario/anaconda3/lib/python3.7/site-packages/sklearn/metrics/classification.py:1143: UndefinedMetricWarning: Precision is ill-defined and being set to 0.0 due to no predicted samples.\n",
      "  'precision', 'predicted', average, warn_for)\n",
      "/home/dario/anaconda3/lib/python3.7/site-packages/sklearn/metrics/classification.py:1143: UndefinedMetricWarning: F-score is ill-defined and being set to 0.0 due to no predicted samples.\n",
      "  'precision', 'predicted', average, warn_for)\n"
     ]
    },
    {
     "name": "stdout",
     "output_type": "stream",
     "text": [
      "Train Set: [16 21 13 20  6 14 25  8 12 18  7 11]\n",
      "Test Set: [15]\n",
      "==========================================\n",
      "TRAIN --->tree\n",
      "TRAIN --->forest\n"
     ]
    },
    {
     "name": "stderr",
     "output_type": "stream",
     "text": [
      "/home/dario/anaconda3/lib/python3.7/site-packages/sklearn/metrics/classification.py:1143: UndefinedMetricWarning: Precision is ill-defined and being set to 0.0 due to no predicted samples.\n",
      "  'precision', 'predicted', average, warn_for)\n",
      "/home/dario/anaconda3/lib/python3.7/site-packages/sklearn/metrics/classification.py:1143: UndefinedMetricWarning: F-score is ill-defined and being set to 0.0 due to no predicted samples.\n",
      "  'precision', 'predicted', average, warn_for)\n",
      "/home/dario/anaconda3/lib/python3.7/site-packages/sklearn/metrics/classification.py:1143: UndefinedMetricWarning: Precision is ill-defined and being set to 0.0 due to no predicted samples.\n",
      "  'precision', 'predicted', average, warn_for)\n",
      "/home/dario/anaconda3/lib/python3.7/site-packages/sklearn/metrics/classification.py:1143: UndefinedMetricWarning: F-score is ill-defined and being set to 0.0 due to no predicted samples.\n",
      "  'precision', 'predicted', average, warn_for)\n"
     ]
    },
    {
     "name": "stdout",
     "output_type": "stream",
     "text": [
      "Train Set: [16 21 13 20  6 14 25  8 12 15  7 11]\n",
      "Test Set: [18]\n",
      "==========================================\n",
      "TRAIN --->tree\n",
      "TRAIN --->forest\n",
      "Train Set: [16 21 13 20  6 14 25  8 12 15 18 11]\n",
      "Test Set: [7]\n",
      "==========================================\n",
      "TRAIN --->tree\n",
      "TRAIN --->forest\n"
     ]
    },
    {
     "name": "stderr",
     "output_type": "stream",
     "text": [
      "/home/dario/anaconda3/lib/python3.7/site-packages/sklearn/metrics/classification.py:1143: UndefinedMetricWarning: Precision is ill-defined and being set to 0.0 due to no predicted samples.\n",
      "  'precision', 'predicted', average, warn_for)\n",
      "/home/dario/anaconda3/lib/python3.7/site-packages/sklearn/metrics/classification.py:1143: UndefinedMetricWarning: F-score is ill-defined and being set to 0.0 due to no predicted samples.\n",
      "  'precision', 'predicted', average, warn_for)\n",
      "/home/dario/anaconda3/lib/python3.7/site-packages/sklearn/metrics/classification.py:1143: UndefinedMetricWarning: Precision is ill-defined and being set to 0.0 due to no predicted samples.\n",
      "  'precision', 'predicted', average, warn_for)\n",
      "/home/dario/anaconda3/lib/python3.7/site-packages/sklearn/metrics/classification.py:1143: UndefinedMetricWarning: F-score is ill-defined and being set to 0.0 due to no predicted samples.\n",
      "  'precision', 'predicted', average, warn_for)\n"
     ]
    },
    {
     "name": "stdout",
     "output_type": "stream",
     "text": [
      "Train Set: [16 21 13 20  6 14 25  8 12 15 18  7]\n",
      "Test Set: [11]\n",
      "==========================================\n",
      "TRAIN --->tree\n",
      "TRAIN --->forest\n"
     ]
    },
    {
     "name": "stderr",
     "output_type": "stream",
     "text": [
      "/home/dario/anaconda3/lib/python3.7/site-packages/sklearn/metrics/classification.py:1143: UndefinedMetricWarning: Precision is ill-defined and being set to 0.0 due to no predicted samples.\n",
      "  'precision', 'predicted', average, warn_for)\n",
      "/home/dario/anaconda3/lib/python3.7/site-packages/sklearn/metrics/classification.py:1143: UndefinedMetricWarning: F-score is ill-defined and being set to 0.0 due to no predicted samples.\n",
      "  'precision', 'predicted', average, warn_for)\n"
     ]
    },
    {
     "data": {
      "text/html": [
       "<div>\n",
       "<style scoped>\n",
       "    .dataframe tbody tr th:only-of-type {\n",
       "        vertical-align: middle;\n",
       "    }\n",
       "\n",
       "    .dataframe tbody tr th {\n",
       "        vertical-align: top;\n",
       "    }\n",
       "\n",
       "    .dataframe thead th {\n",
       "        text-align: right;\n",
       "    }\n",
       "</style>\n",
       "<table border=\"1\" class=\"dataframe\">\n",
       "  <thead>\n",
       "    <tr style=\"text-align: right;\">\n",
       "      <th></th>\n",
       "      <th>baseline</th>\n",
       "      <th>model</th>\n",
       "      <th>accuracy</th>\n",
       "      <th>bal_accuracy</th>\n",
       "      <th>precision</th>\n",
       "      <th>recall</th>\n",
       "      <th>f1_score</th>\n",
       "      <th>roc_auc</th>\n",
       "    </tr>\n",
       "  </thead>\n",
       "  <tbody>\n",
       "    <tr>\n",
       "      <th>0</th>\n",
       "      <td>sub</td>\n",
       "      <td>tree</td>\n",
       "      <td>0.750000</td>\n",
       "      <td>0.59</td>\n",
       "      <td>0.300000</td>\n",
       "      <td>0.35</td>\n",
       "      <td>0.316667</td>\n",
       "      <td>NaN</td>\n",
       "    </tr>\n",
       "    <tr>\n",
       "      <th>1</th>\n",
       "      <td>sub</td>\n",
       "      <td>forest</td>\n",
       "      <td>0.833333</td>\n",
       "      <td>0.60</td>\n",
       "      <td>0.228571</td>\n",
       "      <td>0.25</td>\n",
       "      <td>0.211111</td>\n",
       "      <td>NaN</td>\n",
       "    </tr>\n",
       "  </tbody>\n",
       "</table>\n",
       "</div>"
      ],
      "text/plain": [
       "  baseline   model  accuracy  bal_accuracy  precision  recall  f1_score  \\\n",
       "0      sub    tree  0.750000          0.59   0.300000    0.35  0.316667   \n",
       "1      sub  forest  0.833333          0.60   0.228571    0.25  0.211111   \n",
       "\n",
       "   roc_auc  \n",
       "0      NaN  \n",
       "1      NaN  "
      ]
     },
     "execution_count": 6,
     "metadata": {},
     "output_type": "execute_result"
    }
   ],
   "source": [
    "lie_ML_cols = [\n",
    "        #'duration',\n",
    "        #'react_dur',\n",
    "        #'point_dur',\n",
    "        #'descr_dur',\n",
    "        #'fix_freq','sacc_freq',\n",
    "        'right_mean',\n",
    "        #'right_std','right_min','right_max',\n",
    "        'left_mean',\n",
    "        #'left_std','left_min','left_max',\n",
    "        \n",
    "        #'react_fix_freq', 'react_sacc_freq',\n",
    "        'react_right_mean', 'react_right_std',\n",
    "        #'react_right_min', 'react_right_max',\n",
    "        'react_left_mean', 'react_left_std',\n",
    "        #'react_left_min', 'react_left_max',\n",
    "        \n",
    "        #'point_fix_freq', 'point_sacc_freq',\n",
    "        #'point_right_mean', 'point_right_std','point_right_min','point_right_max',\n",
    "        #'point_left_mean','point_left_std','point_left_min','point_left_max',\n",
    "        \n",
    "        #'descr_fix_freq','descr_sacc_freq',\n",
    "        'descr_right_mean','descr_right_std',\n",
    "        #'descr_right_min','descr_right_max',\n",
    "        'descr_left_mean','descr_left_std',\n",
    "        #'descr_left_min','descr_left_max',\n",
    "    ]\n",
    "\n",
    "result = evaluate_machine_learning_models(\n",
    "    lie_features, lie_ML_cols, N=10, oversample=\"SMOTE\")\n",
    "\n",
    "result"
   ]
  },
  {
   "cell_type": "code",
   "execution_count": null,
   "metadata": {},
   "outputs": [],
   "source": []
  }
 ],
 "metadata": {
  "kernelspec": {
   "display_name": "Python 3",
   "language": "python",
   "name": "python3"
  },
  "language_info": {
   "codemirror_mode": {
    "name": "ipython",
    "version": 3
   },
   "file_extension": ".py",
   "mimetype": "text/x-python",
   "name": "python",
   "nbconvert_exporter": "python",
   "pygments_lexer": "ipython3",
   "version": "3.7.3"
  }
 },
 "nbformat": 4,
 "nbformat_minor": 2
}
