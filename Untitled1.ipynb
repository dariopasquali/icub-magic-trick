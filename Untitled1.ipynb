{
 "cells": [
  {
   "cell_type": "code",
   "execution_count": 41,
   "metadata": {},
   "outputs": [
    {
     "data": {
      "text/html": [
       "<div>\n",
       "<style scoped>\n",
       "    .dataframe tbody tr th:only-of-type {\n",
       "        vertical-align: middle;\n",
       "    }\n",
       "\n",
       "    .dataframe tbody tr th {\n",
       "        vertical-align: top;\n",
       "    }\n",
       "\n",
       "    .dataframe thead th {\n",
       "        text-align: right;\n",
       "    }\n",
       "</style>\n",
       "<table border=\"1\" class=\"dataframe\">\n",
       "  <thead>\n",
       "    <tr style=\"text-align: right;\">\n",
       "      <th></th>\n",
       "      <th>x</th>\n",
       "      <th>a</th>\n",
       "      <th>b</th>\n",
       "      <th>d</th>\n",
       "      <th>eee</th>\n",
       "    </tr>\n",
       "  </thead>\n",
       "  <tbody>\n",
       "    <tr>\n",
       "      <th>0</th>\n",
       "      <td>1</td>\n",
       "      <td>3</td>\n",
       "      <td>5</td>\n",
       "      <td>ciao</td>\n",
       "      <td>bello</td>\n",
       "    </tr>\n",
       "    <tr>\n",
       "      <th>1</th>\n",
       "      <td>231314</td>\n",
       "      <td>4</td>\n",
       "      <td>6</td>\n",
       "      <td>ciao</td>\n",
       "      <td>bello</td>\n",
       "    </tr>\n",
       "  </tbody>\n",
       "</table>\n",
       "</div>"
      ],
      "text/plain": [
       "        x  a  b     d    eee\n",
       "0       1  3  5  ciao  bello\n",
       "1  231314  4  6  ciao  bello"
      ]
     },
     "execution_count": 41,
     "metadata": {},
     "output_type": "execute_result"
    }
   ],
   "source": [
    "import pandas as pd\n",
    "import numpy as np\n",
    "from scipy import stats\n",
    "import matplotlib.pyplot as plt\n",
    "pd.options.mode.chained_assignment = None  # default='warn'\n",
    "\n",
    "df = pd.DataFrame(columns=['x'], data=[[1],[231314]])\n",
    "df['a'] = [3, 4]\n",
    "df['b'] = [5, 6]\n",
    "\n",
    "df2 = pd.DataFrame()\n",
    "df2['c'] = [3, 5]\n",
    "df2['d'] = [4, 5]\n",
    "\n",
    "def concat_columns(source, to_add):\n",
    "    df = source.copy()\n",
    "    cols_to_add = to_add.columns\n",
    "    for col in cols_to_add:\n",
    "        df[col] = to_add[col]\n",
    "\n",
    "    return df\n",
    "\n",
    "def concat_dict(source, dict_to_add):\n",
    "    df = source.copy()\n",
    "    \n",
    "    for col in dict_to_add:\n",
    "        df[col] = dict_to_add[col]\n",
    "\n",
    "    return df\n",
    "\n",
    "dictio = {\n",
    "    'd' : 'ciao',\n",
    "    'eee' : 'bello'\n",
    "}\n",
    "    \n",
    "dd = concat_dict(df, dictio)\n",
    "dd"
   ]
  },
  {
   "cell_type": "code",
   "execution_count": null,
   "metadata": {},
   "outputs": [],
   "source": []
  },
  {
   "cell_type": "code",
   "execution_count": null,
   "metadata": {},
   "outputs": [],
   "source": []
  },
  {
   "cell_type": "code",
   "execution_count": null,
   "metadata": {},
   "outputs": [],
   "source": []
  }
 ],
 "metadata": {
  "kernelspec": {
   "display_name": "Python 3",
   "language": "python",
   "name": "python3"
  },
  "language_info": {
   "codemirror_mode": {
    "name": "ipython",
    "version": 3
   },
   "file_extension": ".py",
   "mimetype": "text/x-python",
   "name": "python",
   "nbconvert_exporter": "python",
   "pygments_lexer": "ipython3",
   "version": "3.7.3"
  }
 },
 "nbformat": 4,
 "nbformat_minor": 2
}
