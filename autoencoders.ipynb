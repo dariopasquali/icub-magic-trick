{
 "cells": [
  {
   "cell_type": "code",
   "execution_count": 7,
   "metadata": {},
   "outputs": [],
   "source": [
    "%matplotlib inline\n",
    "import matplotlib.pyplot as plt\n",
    "import seaborn as sns\n",
    "\n",
    "import pandas as pd\n",
    "import numpy as np\n",
    "from pylab import rcParams\n",
    "\n",
    "import tensorflow as tf\n",
    "from keras.models import Model, load_model\n",
    "from keras.layers import Input, Dense\n",
    "from keras.callbacks import ModelCheckpoint, TensorBoard\n",
    "from keras import regularizers\n",
    "\n",
    "from sklearn.preprocessing import StandardScaler\n",
    "from sklearn.model_selection import train_test_split\n",
    "from sklearn.metrics import confusion_matrix, precision_recall_curve\n",
    "from sklearn.metrics import recall_score, classification_report, auc, roc_curve\n",
    "from sklearn.metrics import precision_recall_fscore_support, f1_score\n",
    "\n",
    "from numpy.random import seed\n",
    "seed(1)\n",
    "from tensorflow import set_random_seed\n",
    "set_random_seed(2)\n",
    "\n",
    "SEED = 123 #used to help randomly select the data points\n",
    "DATA_SPLIT_PCT = 0.2\n",
    "rcParams['figure.figsize'] = 8, 6\n",
    "LABELS = [\"Normal\",\"Break\"]"
   ]
  },
  {
   "cell_type": "code",
   "execution_count": 10,
   "metadata": {},
   "outputs": [],
   "source": [
    "df = pd.read_csv(\"lie_features.csv\", sep=',')\n",
    "df = df.fillna(0)\n",
    "\n",
    "tt_sign_cols = [\n",
    "    'left_max',\n",
    "    'left_std',\n",
    "    'react_mean_pupil',\n",
    "    'react_left_mean',\n",
    "    'descr_left_max',\n",
    "    'right_mean',\n",
    "    'left_mean',\n",
    "    'descr_right_max',\n",
    "    'descr_left_mean',\n",
    "    'descr_right_mean',\n",
    "    'descr_mean_pupil'\n",
    "]\n",
    "TEST_SIZE = 0.25\n",
    "RANDOM_SEED = 42"
   ]
  },
  {
   "cell_type": "code",
   "execution_count": 13,
   "metadata": {},
   "outputs": [],
   "source": [
    "df_train, df_test = train_test_split(df, test_size=DATA_SPLIT_PCT, random_state=SEED, shuffle=False)\n",
    "df_train, df_valid = train_test_split(df_train, test_size=DATA_SPLIT_PCT, random_state=SEED, shuffle=False)\n"
   ]
  },
  {
   "cell_type": "code",
   "execution_count": 16,
   "metadata": {},
   "outputs": [],
   "source": [
    "df_train_0 = df_train.loc[df['label'] == 0]\n",
    "df_train_1 = df_train.loc[df['label'] == 1]\n",
    "df_train_0_x = df_train_0.drop(['label'], axis=1)\n",
    "df_train_1_x = df_train_1.drop(['label'], axis=1)\n",
    "\n",
    "df_valid_0 = df_valid.loc[df['label'] == 0]\n",
    "df_valid_1 = df_valid.loc[df['label'] == 1]\n",
    "df_valid_0_x = df_valid_0.drop(['label'], axis=1)\n",
    "df_valid_1_x = df_valid_1.drop(['label'], axis=1)\n",
    "\n",
    "df_test_0 = df_test.loc[df['label'] == 0]\n",
    "df_test_1 = df_test.loc[df['label'] == 1]\n",
    "df_test_0_x = df_test_0.drop(['label'], axis=1)\n",
    "df_test_1_x = df_test_1.drop(['label'], axis=1)\n"
   ]
  },
  {
   "cell_type": "raw",
   "metadata": {},
   "source": []
  }
 ],
 "metadata": {
  "kernelspec": {
   "display_name": "Python 3",
   "language": "python",
   "name": "python3"
  },
  "language_info": {
   "codemirror_mode": {
    "name": "ipython",
    "version": 3
   },
   "file_extension": ".py",
   "mimetype": "text/x-python",
   "name": "python",
   "nbconvert_exporter": "python",
   "pygments_lexer": "ipython3",
   "version": "3.7.3"
  }
 },
 "nbformat": 4,
 "nbformat_minor": 2
}
